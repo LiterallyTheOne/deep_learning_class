{
 "cells": [
  {
   "cell_type": "markdown",
   "metadata": {},
   "source": [
    "# Session 5: Average pooling layer"
   ]
  },
  {
   "cell_type": "code",
   "execution_count": 2,
   "metadata": {},
   "outputs": [],
   "source": [
    "import keras\n",
    "import numpy as np"
   ]
  },
  {
   "cell_type": "markdown",
   "metadata": {},
   "source": [
    "## Max Pooling"
   ]
  },
  {
   "cell_type": "code",
   "execution_count": 9,
   "metadata": {},
   "outputs": [
    {
     "name": "stdout",
     "output_type": "stream",
     "text": [
      "difference in shapes\n",
      "(1, 2, 2, 2)\n",
      "(1, 1, 1, 2)\n",
      "--------------------\n",
      "1st channel\n",
      "[[0. 2.]\n",
      " [4. 6.]]\n",
      "--------------------\n",
      "second channel\n",
      "[[1. 3.]\n",
      " [5. 7.]]\n",
      "--------------------\n",
      "result of the 1st channel\n",
      "[[6.]]\n",
      "--------------------\n",
      "result of the 2nd channel\n",
      "[[7.]]\n",
      "--------------------\n"
     ]
    }
   ],
   "source": [
    "a = np.arange(8, dtype=float).reshape(1, 2, 2, 2)\n",
    "\n",
    "max_pooling_layer = keras.layers.MaxPool2D((2, 2), strides=1)\n",
    "\n",
    "result = max_pooling_layer(a).numpy()\n",
    "\n",
    "print(\"difference in shapes\")\n",
    "print(a.shape)\n",
    "print(result.shape)\n",
    "print(\"-\" * 20)\n",
    "\n",
    "print(\"1st channel\")\n",
    "print(a[0, :, :, 0])\n",
    "print(\"-\" * 20)\n",
    "\n",
    "print(\"second channel\")\n",
    "print(a[0, :, :, 1])\n",
    "print(\"-\" * 20)\n",
    "\n",
    "print(\"result of the 1st channel\")\n",
    "print(result[0, :, :, 0])\n",
    "print(\"-\" * 20)\n",
    "\n",
    "print(\"result of the 2nd channel\")\n",
    "print(result[0, :, :, 1])\n",
    "print(\"-\" * 20)\n"
   ]
  },
  {
   "cell_type": "code",
   "execution_count": 10,
   "metadata": {},
   "outputs": [
    {
     "name": "stdout",
     "output_type": "stream",
     "text": [
      "differences in shapes\n",
      "(1, 4, 4, 2)\n",
      "(1, 3, 3, 2)\n",
      "--------------------\n",
      "1st channel\n",
      "[[ 0.  2.  4.  6.]\n",
      " [ 8. 10. 12. 14.]\n",
      " [16. 18. 20. 22.]\n",
      " [24. 26. 28. 30.]]\n",
      "--------------------\n",
      "second channel\n",
      "[[ 1.  3.  5.  7.]\n",
      " [ 9. 11. 13. 15.]\n",
      " [17. 19. 21. 23.]\n",
      " [25. 27. 29. 31.]]\n",
      "--------------------\n",
      "result of the 1st channel\n",
      "[[10. 12. 14.]\n",
      " [18. 20. 22.]\n",
      " [26. 28. 30.]]\n",
      "--------------------\n",
      "result of the 2nd channel\n",
      "[[11. 13. 15.]\n",
      " [19. 21. 23.]\n",
      " [27. 29. 31.]]\n",
      "--------------------\n"
     ]
    }
   ],
   "source": [
    "a = np.arange(32, dtype=float).reshape(1, 4, 4, 2)\n",
    "\n",
    "max_pooling_layer = keras.layers.MaxPool2D((2, 2), strides=1)\n",
    "\n",
    "result = max_pooling_layer(a).numpy()\n",
    "\n",
    "\n",
    "print(\"differences in shapes\")\n",
    "print(a.shape)\n",
    "print(result.shape)\n",
    "print(\"-\" * 20)\n",
    "\n",
    "print(\"1st channel\")\n",
    "print(a[0, :, :, 0])\n",
    "print(\"-\" * 20)\n",
    "\n",
    "print(\"second channel\")\n",
    "print(a[0, :, :, 1])\n",
    "print(\"-\" * 20)\n",
    "\n",
    "print(\"result of the 1st channel\")\n",
    "print(result[0, :, :, 0])\n",
    "print(\"-\" * 20)\n",
    "\n",
    "\n",
    "print(\"result of the 2nd channel\")\n",
    "print(result[0, :, :, 1])\n",
    "print(\"-\" * 20)\n"
   ]
  },
  {
   "cell_type": "markdown",
   "metadata": {},
   "source": [
    "## Gloal Max Pooling"
   ]
  },
  {
   "cell_type": "code",
   "execution_count": 11,
   "metadata": {},
   "outputs": [
    {
     "name": "stdout",
     "output_type": "stream",
     "text": [
      "difference in shapes\n",
      "(1, 2, 2, 2)\n",
      "(1, 2)\n",
      "--------------------\n",
      "1st channel\n",
      "[[0. 2.]\n",
      " [4. 6.]]\n",
      "--------------------\n",
      "second channel\n",
      "[[1. 3.]\n",
      " [5. 7.]]\n",
      "--------------------\n",
      "result\n",
      "[[6. 7.]]\n",
      "--------------------\n"
     ]
    }
   ],
   "source": [
    "a = np.arange(8, dtype=float).reshape(1, 2, 2, 2)\n",
    "\n",
    "max_pooling_layer = keras.layers.GlobalMaxPooling2D()\n",
    "\n",
    "result = max_pooling_layer(a).numpy()\n",
    "\n",
    "\n",
    "print(\"difference in shapes\")\n",
    "print(a.shape)\n",
    "print(result.shape)\n",
    "print(\"-\" * 20)\n",
    "\n",
    "print(\"1st channel\")\n",
    "print(a[0, :, :, 0])\n",
    "print(\"-\" * 20)\n",
    "\n",
    "print(\"second channel\")\n",
    "print(a[0, :, :, 1])\n",
    "print(\"-\" * 20)\n",
    "\n",
    "print(\"result\")\n",
    "print(result)\n",
    "print(\"-\" * 20)"
   ]
  },
  {
   "cell_type": "code",
   "execution_count": 12,
   "metadata": {},
   "outputs": [
    {
     "name": "stdout",
     "output_type": "stream",
     "text": [
      "difference in shapes\n",
      "(1, 4, 4, 2)\n",
      "(1, 2)\n",
      "--------------------\n",
      "1st channel\n",
      "[[ 0.  2.  4.  6.]\n",
      " [ 8. 10. 12. 14.]\n",
      " [16. 18. 20. 22.]\n",
      " [24. 26. 28. 30.]]\n",
      "--------------------\n",
      "second channel\n",
      "[[ 1.  3.  5.  7.]\n",
      " [ 9. 11. 13. 15.]\n",
      " [17. 19. 21. 23.]\n",
      " [25. 27. 29. 31.]]\n",
      "--------------------\n",
      "result\n",
      "[[30. 31.]]\n",
      "--------------------\n"
     ]
    }
   ],
   "source": [
    "a = np.arange(32, dtype=float).reshape(1, 4, 4, 2)\n",
    "\n",
    "max_pooling_layer = keras.layers.GlobalMaxPooling2D()\n",
    "\n",
    "result = max_pooling_layer(a).numpy()\n",
    "\n",
    "print(\"difference in shapes\")\n",
    "print(a.shape)\n",
    "print(result.shape)\n",
    "print(\"-\" * 20)\n",
    "\n",
    "print(\"1st channel\")\n",
    "print(a[0, :, :, 0])\n",
    "print(\"-\" * 20)\n",
    "\n",
    "print(\"second channel\")\n",
    "print(a[0, :, :, 1])\n",
    "print(\"-\" * 20)\n",
    "\n",
    "print(\"result\")\n",
    "print(result)\n",
    "print(\"-\" * 20)\n"
   ]
  }
 ],
 "metadata": {
  "kernelspec": {
   "display_name": "tf_env",
   "language": "python",
   "name": "python3"
  },
  "language_info": {
   "codemirror_mode": {
    "name": "ipython",
    "version": 3
   },
   "file_extension": ".py",
   "mimetype": "text/x-python",
   "name": "python",
   "nbconvert_exporter": "python",
   "pygments_lexer": "ipython3",
   "version": "3.10.13"
  }
 },
 "nbformat": 4,
 "nbformat_minor": 2
}

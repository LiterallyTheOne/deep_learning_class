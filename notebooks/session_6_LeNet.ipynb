{
 "cells": [
  {
   "cell_type": "markdown",
   "metadata": {},
   "source": [
    "# Session 6: LeNet"
   ]
  },
  {
   "cell_type": "code",
   "execution_count": 1,
   "metadata": {},
   "outputs": [],
   "source": [
    "import keras\n",
    "import numpy as np"
   ]
  },
  {
   "cell_type": "markdown",
   "metadata": {},
   "source": [
    "## part 1"
   ]
  },
  {
   "cell_type": "code",
   "execution_count": 4,
   "metadata": {},
   "outputs": [
    {
     "data": {
      "text/plain": [
       "TensorShape([1, 28, 28, 6])"
      ]
     },
     "execution_count": 4,
     "metadata": {},
     "output_type": "execute_result"
    }
   ],
   "source": [
    "model = keras.Sequential(\n",
    "    [\n",
    "        keras.layers.Input((28, 28, 1)),\n",
    "        keras.layers.Conv2D(6, (5, 5), padding=\"same\", activation=\"sigmoid\"),\n",
    "    ]\n",
    ")\n",
    "\n",
    "image = np.random.random((1, 28, 28, 1))\n",
    "\n",
    "model(image).shape"
   ]
  },
  {
   "cell_type": "markdown",
   "metadata": {},
   "source": [
    "## part 2"
   ]
  },
  {
   "cell_type": "code",
   "execution_count": 5,
   "metadata": {},
   "outputs": [
    {
     "data": {
      "text/plain": [
       "TensorShape([1, 14, 14, 6])"
      ]
     },
     "execution_count": 5,
     "metadata": {},
     "output_type": "execute_result"
    }
   ],
   "source": [
    "model = keras.Sequential(\n",
    "    [\n",
    "        keras.layers.Input((28, 28, 1)),\n",
    "        keras.layers.Conv2D(6, (5, 5), padding=\"same\", activation=\"sigmoid\"),\n",
    "        keras.layers.AveragePooling2D((2, 2), strides=2),\n",
    "    ]\n",
    ")\n",
    "\n",
    "image = np.random.random((1, 28, 28, 1))\n",
    "\n",
    "model(image).shape"
   ]
  },
  {
   "cell_type": "markdown",
   "metadata": {},
   "source": [
    "## part 3"
   ]
  },
  {
   "cell_type": "code",
   "execution_count": 6,
   "metadata": {},
   "outputs": [
    {
     "data": {
      "text/plain": [
       "TensorShape([1, 10, 10, 16])"
      ]
     },
     "execution_count": 6,
     "metadata": {},
     "output_type": "execute_result"
    }
   ],
   "source": [
    "model = keras.Sequential(\n",
    "    [\n",
    "        keras.layers.Input((28, 28, 1)),\n",
    "        keras.layers.Conv2D(6, (5, 5), padding=\"same\", activation=\"sigmoid\"),\n",
    "        keras.layers.AveragePooling2D((2, 2), strides=2),\n",
    "        keras.layers.Conv2D(16, (5, 5), padding=\"valid\", activation=\"sigmoid\"),\n",
    "    ]\n",
    ")\n",
    "\n",
    "image = np.random.random((1, 28, 28, 1))\n",
    "\n",
    "model(image).shape"
   ]
  },
  {
   "cell_type": "markdown",
   "metadata": {},
   "source": [
    "## part 4"
   ]
  },
  {
   "cell_type": "code",
   "execution_count": null,
   "metadata": {},
   "outputs": [
    {
     "data": {
      "text/plain": [
       "TensorShape([1, 5, 5, 16])"
      ]
     },
     "execution_count": 7,
     "metadata": {},
     "output_type": "execute_result"
    }
   ],
   "source": [
    "model = keras.Sequential(\n",
    "    [\n",
    "        keras.layers.Input((28, 28, 1)),\n",
    "        keras.layers.Conv2D(6, (5, 5), padding=\"same\", activation=\"sigmoid\"),\n",
    "        keras.layers.AveragePooling2D((2, 2), strides=2),\n",
    "        keras.layers.Conv2D(16, (5, 5), padding=\"valid\", activation=\"sigmoid\"),\n",
    "        keras.layers.AveragePooling2D((2, 2), strides=2),\n",
    "    ]\n",
    ")\n",
    "\n",
    "image = np.random.random((1, 28, 28, 1))\n",
    "\n",
    "model(image).shape"
   ]
  },
  {
   "cell_type": "markdown",
   "metadata": {},
   "source": [
    "## part 5"
   ]
  },
  {
   "cell_type": "code",
   "execution_count": 9,
   "metadata": {},
   "outputs": [
    {
     "data": {
      "text/plain": [
       "TensorShape([1, 10])"
      ]
     },
     "execution_count": 9,
     "metadata": {},
     "output_type": "execute_result"
    }
   ],
   "source": [
    "model = keras.Sequential(\n",
    "    [\n",
    "        keras.layers.Input((28, 28, 1)),\n",
    "        keras.layers.Conv2D(6, (5, 5), padding=\"same\", activation=\"sigmoid\"),\n",
    "        keras.layers.AveragePooling2D((2, 2), strides=2),\n",
    "        keras.layers.Conv2D(16, (5, 5), padding=\"valid\", activation=\"sigmoid\"),\n",
    "        keras.layers.AveragePooling2D((2, 2), strides=2),\n",
    "        keras.layers.Flatten(),\n",
    "        keras.layers.Dense(120, activation=\"sigmoid\"),\n",
    "        keras.layers.Dense(84, activation=\"sigmoid\"),\n",
    "        keras.layers.Dense(10, activation=\"softmax\"),\n",
    "    ]\n",
    ")\n",
    "\n",
    "image = np.random.random((1, 28, 28, 1))\n",
    "\n",
    "model(image).shape"
   ]
  }
 ],
 "metadata": {
  "kernelspec": {
   "display_name": "tf_env",
   "language": "python",
   "name": "python3"
  },
  "language_info": {
   "codemirror_mode": {
    "name": "ipython",
    "version": 3
   },
   "file_extension": ".py",
   "mimetype": "text/x-python",
   "name": "python",
   "nbconvert_exporter": "python",
   "pygments_lexer": "ipython3",
   "version": "3.10.13"
  }
 },
 "nbformat": 4,
 "nbformat_minor": 2
}

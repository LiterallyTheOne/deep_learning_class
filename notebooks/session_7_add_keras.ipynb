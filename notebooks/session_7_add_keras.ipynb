{
 "cells": [
  {
   "cell_type": "markdown",
   "metadata": {},
   "source": [
    "# Add layer"
   ]
  },
  {
   "cell_type": "code",
   "execution_count": 2,
   "metadata": {},
   "outputs": [],
   "source": [
    "import keras\n",
    "import numpy as np"
   ]
  },
  {
   "cell_type": "code",
   "execution_count": null,
   "metadata": {},
   "outputs": [
    {
     "name": "stdout",
     "output_type": "stream",
     "text": [
      "a=array([[[0., 1.],\n",
      "        [2., 3.],\n",
      "        [4., 5.]]])\n",
      "--------------------\n",
      "b=array([[[ 0.,  2.],\n",
      "        [ 4.,  6.],\n",
      "        [ 8., 10.]]])\n",
      "--------------------\n",
      "result.numpy()=array([[[ 0.,  3.],\n",
      "        [ 6.,  9.],\n",
      "        [12., 15.]]], dtype=float32)\n",
      "--------------------\n",
      "a + b=array([[[ 0.,  3.],\n",
      "        [ 6.,  9.],\n",
      "        [12., 15.]]])\n"
     ]
    }
   ],
   "source": [
    "a = np.arange(6, dtype=float).reshape(1, 3, 2)\n",
    "b = a * 2\n",
    "\n",
    "al = keras.layers.Add()\n",
    "\n",
    "result = al([a, b])\n",
    "\n",
    "print(f\"{a=}\")\n",
    "print(\"-\" * 20)\n",
    "print(f\"{b=}\")\n",
    "print(\"-\" * 20)\n",
    "print(f\"{result.numpy()=}\")\n",
    "print(\"-\" * 20)\n",
    "print(f\"{a + b=}\")\n"
   ]
  },
  {
   "cell_type": "code",
   "execution_count": 4,
   "metadata": {},
   "outputs": [
    {
     "name": "stdout",
     "output_type": "stream",
     "text": [
      "a=array([[[0., 1.],\n",
      "        [2., 3.],\n",
      "        [4., 5.]]])\n",
      "--------------------\n",
      "b=array([[[0.],\n",
      "        [1.],\n",
      "        [2.]]])\n",
      "--------------------\n",
      "result.numpy()=array([[[0., 1.],\n",
      "        [3., 4.],\n",
      "        [6., 7.]]], dtype=float32)\n",
      "--------------------\n",
      "a + b=array([[[0., 1.],\n",
      "        [3., 4.],\n",
      "        [6., 7.]]])\n"
     ]
    }
   ],
   "source": [
    "a = np.arange(6, dtype=float).reshape(1, 3, 2)\n",
    "b = np.arange(3, dtype=float).reshape(1, 3, 1)\n",
    "\n",
    "al = keras.layers.Add()\n",
    "\n",
    "result = al([a, b])\n",
    "\n",
    "print(f\"{a=}\")\n",
    "print(\"-\" * 20)\n",
    "print(f\"{b=}\")\n",
    "print(\"-\" * 20)\n",
    "print(f\"{result.numpy()=}\")\n",
    "print(\"-\" * 20)\n",
    "print(f\"{a + b=}\")\n"
   ]
  }
 ],
 "metadata": {
  "kernelspec": {
   "display_name": "tf_env",
   "language": "python",
   "name": "python3"
  },
  "language_info": {
   "codemirror_mode": {
    "name": "ipython",
    "version": 3
   },
   "file_extension": ".py",
   "mimetype": "text/x-python",
   "name": "python",
   "nbconvert_exporter": "python",
   "pygments_lexer": "ipython3",
   "version": "3.10.13"
  }
 },
 "nbformat": 4,
 "nbformat_minor": 2
}

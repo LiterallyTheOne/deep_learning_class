{
 "cells": [
  {
   "cell_type": "markdown",
   "metadata": {
    "id": "j4ojZz6oCWQY"
   },
   "source": [
    "# loss function, optimizer and dropout-layer"
   ]
  },
  {
   "cell_type": "markdown",
   "metadata": {},
   "source": [
    "## Imports"
   ]
  },
  {
   "cell_type": "code",
   "execution_count": 1,
   "metadata": {},
   "outputs": [],
   "source": [
    "from tensorflow.python.keras import backend as K\n",
    "\n",
    "import numpy as np\n",
    "\n",
    "import keras"
   ]
  },
  {
   "cell_type": "markdown",
   "metadata": {},
   "source": [
    "## Loss functions"
   ]
  },
  {
   "cell_type": "markdown",
   "metadata": {},
   "source": [
    "### Binary Absolute loss"
   ]
  },
  {
   "cell_type": "code",
   "execution_count": 2,
   "metadata": {},
   "outputs": [],
   "source": [
    "def absolute_loss(y_true, y_pred):\n",
    "    loss = K.abs(y_pred - y_true)\n",
    "    return K.sum(loss)"
   ]
  },
  {
   "cell_type": "code",
   "execution_count": 3,
   "metadata": {},
   "outputs": [
    {
     "data": {
      "text/plain": [
       "np.float64(1.05)"
      ]
     },
     "execution_count": 3,
     "metadata": {},
     "output_type": "execute_result"
    }
   ],
   "source": [
    "y_true = np.array([1, 0, 1, 0])\n",
    "y_pred = np.array([0.2, 0.1, 0.9, 0.05])\n",
    "\n",
    "absolute_loss(y_true, y_pred).numpy()"
   ]
  },
  {
   "cell_type": "markdown",
   "metadata": {},
   "source": [
    "### Binary Cross Entropy"
   ]
  },
  {
   "cell_type": "code",
   "execution_count": 4,
   "metadata": {},
   "outputs": [
    {
     "data": {
      "text/plain": [
       "np.float64(0.4678630595343259)"
      ]
     },
     "execution_count": 4,
     "metadata": {},
     "output_type": "execute_result"
    }
   ],
   "source": [
    "y_true = np.array([1, 0, 1, 0])\n",
    "y_pred = np.array([0.2, 0.1, 0.9, 0.05])\n",
    "\n",
    "keras.losses.binary_crossentropy(y_true, y_pred).numpy()"
   ]
  },
  {
   "cell_type": "code",
   "execution_count": 5,
   "metadata": {},
   "outputs": [
    {
     "data": {
      "text/plain": [
       "np.float64(0.4678630595343259)"
      ]
     },
     "execution_count": 5,
     "metadata": {},
     "output_type": "execute_result"
    }
   ],
   "source": [
    "-(np.log(0.2) + np.log(0.9) + np.log(0.9) + np.log(0.95)) / 4"
   ]
  },
  {
   "cell_type": "markdown",
   "metadata": {},
   "source": [
    "### Categorical Cross Entropy"
   ]
  },
  {
   "cell_type": "markdown",
   "metadata": {},
   "source": [
    "should be in on-hot format"
   ]
  },
  {
   "cell_type": "code",
   "execution_count": 6,
   "metadata": {},
   "outputs": [
    {
     "data": {
      "text/plain": [
       "array([0.22314355, 0.69314718, 0.35667494])"
      ]
     },
     "execution_count": 6,
     "metadata": {},
     "output_type": "execute_result"
    }
   ],
   "source": [
    "# I have 4 classes and 3 data\n",
    "y_true = np.array(\n",
    "    [\n",
    "        [1, 0, 0, 0],\n",
    "        [0, 1, 0, 0],\n",
    "        [0, 0, 0, 1],\n",
    "    ]\n",
    ")\n",
    "y_pred = np.array(\n",
    "    [\n",
    "        [0.8, 0.05, 0.1, 0.05],\n",
    "        [0.2, 0.5, 0.2, 0.1],\n",
    "        [0.1, 0.1, 0.1, 0.7],\n",
    "    ]\n",
    ")\n",
    "\n",
    "keras.losses.categorical_crossentropy(y_true, y_pred).numpy()"
   ]
  },
  {
   "cell_type": "code",
   "execution_count": 7,
   "metadata": {},
   "outputs": [
    {
     "data": {
      "text/plain": [
       "[np.float64(0.2231435513142097),\n",
       " np.float64(0.6931471805599453),\n",
       " np.float64(0.35667494393873245)]"
      ]
     },
     "execution_count": 7,
     "metadata": {},
     "output_type": "execute_result"
    }
   ],
   "source": [
    "[-np.log(0.8), -np.log(0.5), -np.log(0.7)]"
   ]
  },
  {
   "cell_type": "markdown",
   "metadata": {},
   "source": [
    "## Sparse Categorical CrossEntropy"
   ]
  },
  {
   "cell_type": "code",
   "execution_count": 8,
   "metadata": {},
   "outputs": [
    {
     "data": {
      "text/plain": [
       "array([0.22314355, 0.69314718, 0.35667494])"
      ]
     },
     "execution_count": 8,
     "metadata": {},
     "output_type": "execute_result"
    }
   ],
   "source": [
    "y_true = np.array(\n",
    "    [\n",
    "        0,\n",
    "        1,\n",
    "        3,\n",
    "    ]\n",
    ")\n",
    "y_pred = np.array(\n",
    "    [\n",
    "        [0.8, 0.05, 0.1, 0.05],\n",
    "        [0.2, 0.5, 0.2, 0.1],\n",
    "        [0.1, 0.1, 0.1, 0.7],\n",
    "    ]\n",
    ")\n",
    "\n",
    "keras.losses.sparse_categorical_crossentropy(y_true, y_pred).numpy()"
   ]
  },
  {
   "cell_type": "code",
   "execution_count": 9,
   "metadata": {},
   "outputs": [
    {
     "data": {
      "text/plain": [
       "[np.float64(0.2231435513142097),\n",
       " np.float64(0.6931471805599453),\n",
       " np.float64(0.35667494393873245)]"
      ]
     },
     "execution_count": 9,
     "metadata": {},
     "output_type": "execute_result"
    }
   ],
   "source": [
    "[-np.log(0.8), -np.log(0.5), -np.log(0.7)]"
   ]
  },
  {
   "cell_type": "markdown",
   "metadata": {},
   "source": [
    "### Use loss function with classes"
   ]
  },
  {
   "cell_type": "markdown",
   "metadata": {},
   "source": [
    "mainly give us more configuration."
   ]
  },
  {
   "cell_type": "code",
   "execution_count": 10,
   "metadata": {},
   "outputs": [],
   "source": [
    "class AbsoluteLoss(keras.losses.Loss):\n",
    "    def __init__(self):\n",
    "        super().__init__()\n",
    "\n",
    "    def call(self, y_true, y_pred):\n",
    "        loss = K.abs(y_pred - y_true)\n",
    "        return K.sum(loss)"
   ]
  },
  {
   "cell_type": "code",
   "execution_count": 11,
   "metadata": {},
   "outputs": [
    {
     "data": {
      "text/plain": [
       "np.float32(1.0500001)"
      ]
     },
     "execution_count": 11,
     "metadata": {},
     "output_type": "execute_result"
    }
   ],
   "source": [
    "y_true = np.array([1, 0, 1, 0])\n",
    "y_pred = np.array([0.2, 0.1, 0.9, 0.05])\n",
    "\n",
    "al = AbsoluteLoss()\n",
    "\n",
    "al(y_true, y_pred).numpy()"
   ]
  },
  {
   "cell_type": "code",
   "execution_count": 12,
   "metadata": {},
   "outputs": [
    {
     "data": {
      "text/plain": [
       "np.float32(0.46786308)"
      ]
     },
     "execution_count": 12,
     "metadata": {},
     "output_type": "execute_result"
    }
   ],
   "source": [
    "# Binary Crossentropy\n",
    "y_true = np.array([1, 0, 1, 0])\n",
    "y_pred = np.array([0.2, 0.1, 0.9, 0.05])\n",
    "\n",
    "bce = keras.losses.BinaryCrossentropy()\n",
    "\n",
    "bce(y_true, y_pred).numpy()"
   ]
  },
  {
   "cell_type": "code",
   "execution_count": 13,
   "metadata": {},
   "outputs": [
    {
     "data": {
      "text/plain": [
       "array([0.22314355, 0.6931472 , 0.35667497], dtype=float32)"
      ]
     },
     "execution_count": 13,
     "metadata": {},
     "output_type": "execute_result"
    }
   ],
   "source": [
    "# Categorical Crossentropy\n",
    "y_true = np.array(\n",
    "    [\n",
    "        [1, 0, 0, 0],\n",
    "        [0, 1, 0, 0],\n",
    "        [0, 0, 0, 1],\n",
    "    ]\n",
    ")\n",
    "y_pred = np.array(\n",
    "    [\n",
    "        [0.8, 0.05, 0.1, 0.05],\n",
    "        [0.2, 0.5, 0.2, 0.1],\n",
    "        [0.1, 0.1, 0.1, 0.7],\n",
    "    ]\n",
    ")\n",
    "\n",
    "cce = keras.losses.CategoricalCrossentropy(reduction=None)\n",
    "\n",
    "cce(y_true, y_pred).numpy()"
   ]
  },
  {
   "cell_type": "code",
   "execution_count": 14,
   "metadata": {},
   "outputs": [
    {
     "data": {
      "text/plain": [
       "array([0.22314355, 0.6931472 , 0.35667488], dtype=float32)"
      ]
     },
     "execution_count": 14,
     "metadata": {},
     "output_type": "execute_result"
    }
   ],
   "source": [
    "# Sparse Categorical Crossentropy\n",
    "y_true = np.array(\n",
    "    [\n",
    "        0,\n",
    "        1,\n",
    "        3,\n",
    "    ]\n",
    ")\n",
    "y_pred = np.array(\n",
    "    [\n",
    "        [0.8, 0.05, 0.1, 0.05],\n",
    "        [0.2, 0.5, 0.2, 0.1],\n",
    "        [0.1, 0.1, 0.1, 0.7],\n",
    "    ]\n",
    ")\n",
    "\n",
    "scce = keras.losses.SparseCategoricalCrossentropy(reduction=None)\n",
    "\n",
    "scce(y_true, y_pred).numpy()"
   ]
  },
  {
   "cell_type": "markdown",
   "metadata": {},
   "source": [
    "## Optimizer"
   ]
  },
  {
   "cell_type": "code",
   "execution_count": 15,
   "metadata": {},
   "outputs": [],
   "source": [
    "sgd = keras.optimizers.SGD()\n",
    "\n",
    "rmsprop = keras.optimizers.RMSprop()\n",
    "\n",
    "adam = keras.optimizers.Adam()"
   ]
  }
 ],
 "metadata": {
  "accelerator": "GPU",
  "colab": {
   "gpuType": "T4",
   "provenance": []
  },
  "kernelspec": {
   "display_name": "tensorflow_312_new",
   "language": "python",
   "name": "python3"
  },
  "language_info": {
   "codemirror_mode": {
    "name": "ipython",
    "version": 3
   },
   "file_extension": ".py",
   "mimetype": "text/x-python",
   "name": "python",
   "nbconvert_exporter": "python",
   "pygments_lexer": "ipython3",
   "version": "3.12.7"
  }
 },
 "nbformat": 4,
 "nbformat_minor": 0
}

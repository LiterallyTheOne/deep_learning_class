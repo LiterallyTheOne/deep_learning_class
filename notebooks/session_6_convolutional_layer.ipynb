{
 "cells": [
  {
   "cell_type": "markdown",
   "metadata": {},
   "source": [
    "# Session 6: Convolutional layer"
   ]
  },
  {
   "cell_type": "code",
   "execution_count": 18,
   "metadata": {},
   "outputs": [],
   "source": [
    "import keras\n",
    "import numpy as np\n",
    "\n",
    "from matplotlib import pyplot as plt"
   ]
  },
  {
   "cell_type": "markdown",
   "metadata": {},
   "source": [
    "## Conv2D"
   ]
  },
  {
   "cell_type": "markdown",
   "metadata": {},
   "source": [
    "* filter: number of output channels\n",
    "* kernel_size\n",
    "* strides\n",
    "* padding:\n",
    "    * \"valid\": no padding\n",
    "    * \"same\": padding evenly to the left and right\n",
    "* [activation](https://keras.io/api/layers/activations/#available-activations):\n",
    "  * ReLU\n",
    "    * $max(0,x)$ \n",
    "    * [0:]\n",
    "  * Sigmoid\n",
    "    * $\\frac{1}{1 + e^{(-x)}}$\n",
    "    * (0, 1)\n",
    "  * Tanh\n",
    "    * $\\frac{e^x - e^{-x}}{e^x + e^{-x}}$\n",
    "    * (-1, 1)\n",
    "  * softmax\n",
    "    * $\\frac{e^{x_i}}{\\sum_j e^{x_j}}$"
   ]
  },
  {
   "cell_type": "markdown",
   "metadata": {},
   "source": [
    "### Normal example"
   ]
  },
  {
   "cell_type": "code",
   "execution_count": 7,
   "metadata": {},
   "outputs": [
    {
     "name": "stdout",
     "output_type": "stream",
     "text": [
      "difference in shapes\n",
      "(1, 4, 4, 2)\n",
      "(1, 3, 3, 10)\n",
      "--------------------\n",
      "1st channel\n",
      "[[ 0.  2.  4.  6.]\n",
      " [ 8. 10. 12. 14.]\n",
      " [16. 18. 20. 22.]\n",
      " [24. 26. 28. 30.]]\n",
      "--------------------\n",
      "2nd channel\n",
      "[[ 1.  3.  5.  7.]\n",
      " [ 9. 11. 13. 15.]\n",
      " [17. 19. 21. 23.]\n",
      " [25. 27. 29. 31.]]\n",
      "--------------------\n",
      "result of the 1st channel\n",
      "[[1.974007  2.3745873 2.7751675]\n",
      " [3.5763285 3.9769084 4.377489 ]\n",
      " [5.1786494 5.5792303 5.9798098]]\n",
      "--------------------\n",
      "result of the 2nd channel\n",
      "[[-0.1937983 -0.6892171 -1.1846361]\n",
      " [-2.175474  -2.6708937 -3.1663122]\n",
      " [-4.1571503 -4.6525693 -5.1479883]]\n",
      "--------------------\n"
     ]
    }
   ],
   "source": [
    "a = np.arange(32, dtype=float).reshape(1, 4, 4, 2)\n",
    "\n",
    "conv_2d = keras.layers.Conv2D(10, (2, 2))\n",
    "\n",
    "result = conv_2d(a).numpy()\n",
    "\n",
    "print(\"difference in shapes\")\n",
    "print(a.shape)\n",
    "print(result.shape)\n",
    "print(\"-\" * 20)\n",
    "\n",
    "print(\"1st channel\")\n",
    "print(a[0, :, :, 0])\n",
    "print(\"-\" * 20)\n",
    "\n",
    "print(\"2nd channel\")\n",
    "print(a[0, :, :, 1])\n",
    "print(\"-\" * 20)\n",
    "\n",
    "print(\"result of the 1st channel\")\n",
    "print(result[0, :, :, 0])\n",
    "print(\"-\" * 20)\n",
    "\n",
    "print(\"result of the 2nd channel\")\n",
    "print(result[0, :, :, 1])\n",
    "print(\"-\" * 20)\n"
   ]
  },
  {
   "cell_type": "markdown",
   "metadata": {},
   "source": [
    "### Strides example"
   ]
  },
  {
   "cell_type": "code",
   "execution_count": 9,
   "metadata": {},
   "outputs": [
    {
     "name": "stdout",
     "output_type": "stream",
     "text": [
      "difference in shapes\n",
      "(1, 4, 4, 2)\n",
      "(1, 2, 3, 10)\n",
      "--------------------\n"
     ]
    }
   ],
   "source": [
    "a = np.arange(32, dtype=float).reshape(1, 4, 4, 2)\n",
    "\n",
    "conv_2d = keras.layers.Conv2D(10, (2, 2), strides=(2, 1))\n",
    "\n",
    "result = conv_2d(a).numpy()\n",
    "\n",
    "print(\"difference in shapes\")\n",
    "print(a.shape)\n",
    "print(result.shape)\n",
    "print(\"-\" * 20)"
   ]
  },
  {
   "cell_type": "markdown",
   "metadata": {},
   "source": [
    "### Padding example"
   ]
  },
  {
   "cell_type": "code",
   "execution_count": null,
   "metadata": {},
   "outputs": [
    {
     "name": "stdout",
     "output_type": "stream",
     "text": [
      "difference in shapes\n",
      "(1, 4, 4, 2)\n",
      "(1, 4, 4, 10)\n",
      "--------------------\n"
     ]
    }
   ],
   "source": [
    "a = np.arange(32, dtype=float).reshape(1, 4, 4, 2)\n",
    "\n",
    "conv_2d = keras.layers.Conv2D(10, (2, 2), padding=\"same\")\n",
    "\n",
    "result = conv_2d(a).numpy()\n",
    "\n",
    "print(\"difference in shapes\")\n",
    "print(a.shape)\n",
    "print(result.shape)\n",
    "print(\"-\" * 20)"
   ]
  },
  {
   "cell_type": "markdown",
   "metadata": {},
   "source": [
    "### Activation example"
   ]
  },
  {
   "cell_type": "code",
   "execution_count": 23,
   "metadata": {},
   "outputs": [
    {
     "data": {
      "image/png": "[encoded data removed]",
      "text/plain": [
       "<Figure size 640x480 with 1 Axes>"
      ]
     },
     "metadata": {},
     "output_type": "display_data"
    }
   ],
   "source": [
    "x = np.linspace(-10, 10, 1000)\n",
    "y = np.tanh(x)\n",
    "\n",
    "plt.plot(x, y)\n",
    "\n",
    "plt.show()"
   ]
  },
  {
   "cell_type": "code",
   "execution_count": null,
   "metadata": {},
   "outputs": [
    {
     "name": "stdout",
     "output_type": "stream",
     "text": [
      "difference in shapes\n",
      "(1, 4, 4, 2)\n",
      "(1, 4, 4, 2)\n",
      "--------------------\n",
      "result of the 1st channel\n",
      "tf.Tensor(\n",
      "[[-0.11318238  0.737584    0.74774514 -0.31781569]\n",
      " [ 0.27575569 -0.4458762   0.27713983  0.01625523]\n",
      " [-0.35542437  0.02407975 -0.09620516 -0.69981008]\n",
      " [-0.54423438 -0.47509975  0.71427974  0.55740607]], shape=(4, 4), dtype=float64)\n",
      "--------------------\n",
      "result of the 2nd channel\n",
      "tf.Tensor(\n",
      "[[-0.62655701  0.28687463  0.56691897 -0.15918175]\n",
      " [-0.7223658   0.57757519 -0.05785234  0.09578957]\n",
      " [-0.53292338  0.1670185  -0.29790341  0.40791186]\n",
      " [ 0.18890253 -0.45077791 -0.7488179   0.50589421]], shape=(4, 4), dtype=float64)\n",
      "--------------------\n",
      "result_max: 0.7477451444931291\n",
      "result_min: -0.7488178975662892\n"
     ]
    }
   ],
   "source": [
    "a = 2 * np.random.random((1, 4, 4, 2)) - 1\n",
    "\n",
    "result_activation = keras.activations.tanh(a)\n",
    "\n",
    "print(\"difference in shapes\")\n",
    "print(a.shape)\n",
    "print(result_activation.shape)\n",
    "print(\"-\" * 20)\n",
    "\n",
    "print(\"result of the 1st channel\")\n",
    "print(result_activation[0, :, :, 0])\n",
    "print(\"-\" * 20)\n",
    "\n",
    "print(\"result of the 2nd channel\")\n",
    "print(result_activation[0, :, :, 1])\n",
    "print(\"-\" * 20)\n",
    "\n",
    "print(f\"result_max: {result_activation.numpy().max()}\")\n",
    "print(f\"result_min: {result_activation.numpy().min()}\")\n"
   ]
  },
  {
   "cell_type": "code",
   "execution_count": null,
   "metadata": {},
   "outputs": [],
   "source": []
  }
 ],
 "metadata": {
  "kernelspec": {
   "display_name": "tf_env",
   "language": "python",
   "name": "python3"
  },
  "language_info": {
   "codemirror_mode": {
    "name": "ipython",
    "version": 3
   },
   "file_extension": ".py",
   "mimetype": "text/x-python",
   "name": "python",
   "nbconvert_exporter": "python",
   "pygments_lexer": "ipython3",
   "version": "3.10.13"
  }
 },
 "nbformat": 4,
 "nbformat_minor": 2
}

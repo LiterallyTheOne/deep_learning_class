{
 "cells": [
  {
   "cell_type": "markdown",
   "metadata": {},
   "source": [
    "# Session 6: Convolutional layer"
   ]
  },
  {
   "cell_type": "code",
   "execution_count": 1,
   "metadata": {},
   "outputs": [],
   "source": [
    "import keras\n",
    "import numpy as np"
   ]
  },
  {
   "cell_type": "markdown",
   "metadata": {},
   "source": [
    "## Conv2D"
   ]
  },
  {
   "cell_type": "code",
   "execution_count": null,
   "metadata": {},
   "outputs": [
    {
     "name": "stdout",
     "output_type": "stream",
     "text": [
      "difference in shapes\n",
      "(1, 3, 3, 2)\n",
      "(1, 2, 2, 10)\n",
      "--------------------\n",
      "1st channel\n",
      "[[ 0.  2.  4.]\n",
      " [ 6.  8. 10.]\n",
      " [12. 14. 16.]]\n",
      "--------------------\n",
      "second channel\n",
      "[[ 1.  3.  5.]\n",
      " [ 7.  9. 11.]\n",
      " [13. 15. 17.]]\n",
      "--------------------\n",
      "result of the 1st channel\n",
      "[[-1.8230822 -2.6907558]\n",
      " [-4.4261036 -5.2937775]]\n",
      "--------------------\n",
      "result of the 2nd channel\n",
      "[[-3.5358944 -5.023037 ]\n",
      " [-7.9973216 -9.484464 ]]\n",
      "--------------------\n"
     ]
    }
   ],
   "source": [
    "a = np.arange(18, dtype=float).reshape(1, 3, 3, 2)\n",
    "\n",
    "conv_2d = keras.layers.Conv2D(10, (2, 2))\n",
    "\n",
    "result = conv_2d(a).numpy()\n",
    "\n",
    "print(\"difference in shapes\")\n",
    "print(a.shape)\n",
    "print(result.shape)\n",
    "print(\"-\" * 20)\n",
    "\n",
    "print(\"1st channel\")\n",
    "print(a[0, :, :, 0])\n",
    "print(\"-\" * 20)\n",
    "\n",
    "print(\"2nd channel\")\n",
    "print(a[0, :, :, 1])\n",
    "print(\"-\" * 20)\n",
    "\n",
    "print(\"result of the 1st channel\")\n",
    "print(result[0, :, :, 0])\n",
    "print(\"-\" * 20)\n",
    "\n",
    "print(\"result of the 2nd channel\")\n",
    "print(result[0, :, :, 1])\n",
    "print(\"-\" * 20)\n"
   ]
  }
 ],
 "metadata": {
  "kernelspec": {
   "display_name": "tf_env",
   "language": "python",
   "name": "python3"
  },
  "language_info": {
   "codemirror_mode": {
    "name": "ipython",
    "version": 3
   },
   "file_extension": ".py",
   "mimetype": "text/x-python",
   "name": "python",
   "nbconvert_exporter": "python",
   "pygments_lexer": "ipython3",
   "version": "3.10.13"
  }
 },
 "nbformat": 4,
 "nbformat_minor": 2
}

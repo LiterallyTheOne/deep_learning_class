{
 "cells": [
  {
   "cell_type": "markdown",
   "metadata": {},
   "source": [
    "# Session 6: Convolutional layer"
   ]
  },
  {
   "cell_type": "code",
   "execution_count": 2,
   "metadata": {},
   "outputs": [],
   "source": [
    "import keras\n",
    "import numpy as np"
   ]
  },
  {
   "cell_type": "markdown",
   "metadata": {},
   "source": [
    "## Conv2D"
   ]
  },
  {
   "cell_type": "markdown",
   "metadata": {},
   "source": [
    "* filter: number of output channels\n",
    "* kernel_size\n",
    "* strides\n",
    "* padding:\n",
    "    * \"valid\": no padding\n",
    "    * \"same\": padding evenly to the left and right"
   ]
  },
  {
   "cell_type": "markdown",
   "metadata": {},
   "source": [
    "### Normal example"
   ]
  },
  {
   "cell_type": "code",
   "execution_count": 7,
   "metadata": {},
   "outputs": [
    {
     "name": "stdout",
     "output_type": "stream",
     "text": [
      "difference in shapes\n",
      "(1, 4, 4, 2)\n",
      "(1, 3, 3, 10)\n",
      "--------------------\n",
      "1st channel\n",
      "[[ 0.  2.  4.  6.]\n",
      " [ 8. 10. 12. 14.]\n",
      " [16. 18. 20. 22.]\n",
      " [24. 26. 28. 30.]]\n",
      "--------------------\n",
      "2nd channel\n",
      "[[ 1.  3.  5.  7.]\n",
      " [ 9. 11. 13. 15.]\n",
      " [17. 19. 21. 23.]\n",
      " [25. 27. 29. 31.]]\n",
      "--------------------\n",
      "result of the 1st channel\n",
      "[[1.974007  2.3745873 2.7751675]\n",
      " [3.5763285 3.9769084 4.377489 ]\n",
      " [5.1786494 5.5792303 5.9798098]]\n",
      "--------------------\n",
      "result of the 2nd channel\n",
      "[[-0.1937983 -0.6892171 -1.1846361]\n",
      " [-2.175474  -2.6708937 -3.1663122]\n",
      " [-4.1571503 -4.6525693 -5.1479883]]\n",
      "--------------------\n"
     ]
    }
   ],
   "source": [
    "a = np.arange(32, dtype=float).reshape(1, 4, 4, 2)\n",
    "\n",
    "conv_2d = keras.layers.Conv2D(10, (2, 2))\n",
    "\n",
    "result = conv_2d(a).numpy()\n",
    "\n",
    "print(\"difference in shapes\")\n",
    "print(a.shape)\n",
    "print(result.shape)\n",
    "print(\"-\" * 20)\n",
    "\n",
    "print(\"1st channel\")\n",
    "print(a[0, :, :, 0])\n",
    "print(\"-\" * 20)\n",
    "\n",
    "print(\"2nd channel\")\n",
    "print(a[0, :, :, 1])\n",
    "print(\"-\" * 20)\n",
    "\n",
    "print(\"result of the 1st channel\")\n",
    "print(result[0, :, :, 0])\n",
    "print(\"-\" * 20)\n",
    "\n",
    "print(\"result of the 2nd channel\")\n",
    "print(result[0, :, :, 1])\n",
    "print(\"-\" * 20)\n"
   ]
  },
  {
   "cell_type": "markdown",
   "metadata": {},
   "source": [
    "### Strides example"
   ]
  },
  {
   "cell_type": "code",
   "execution_count": 9,
   "metadata": {},
   "outputs": [
    {
     "name": "stdout",
     "output_type": "stream",
     "text": [
      "difference in shapes\n",
      "(1, 4, 4, 2)\n",
      "(1, 2, 3, 10)\n",
      "--------------------\n"
     ]
    }
   ],
   "source": [
    "a = np.arange(32, dtype=float).reshape(1, 4, 4, 2)\n",
    "\n",
    "conv_2d = keras.layers.Conv2D(10, (2, 2), strides=(2, 1))\n",
    "\n",
    "result = conv_2d(a).numpy()\n",
    "\n",
    "print(\"difference in shapes\")\n",
    "print(a.shape)\n",
    "print(result.shape)\n",
    "print(\"-\" * 20)"
   ]
  },
  {
   "cell_type": "markdown",
   "metadata": {},
   "source": [
    "### Padding example"
   ]
  },
  {
   "cell_type": "code",
   "execution_count": null,
   "metadata": {},
   "outputs": [
    {
     "name": "stdout",
     "output_type": "stream",
     "text": [
      "difference in shapes\n",
      "(1, 4, 4, 2)\n",
      "(1, 4, 4, 10)\n",
      "--------------------\n"
     ]
    }
   ],
   "source": [
    "a = np.arange(32, dtype=float).reshape(1, 4, 4, 2)\n",
    "\n",
    "conv_2d = keras.layers.Conv2D(10, (2, 2), padding=\"same\")\n",
    "\n",
    "result = conv_2d(a).numpy()\n",
    "\n",
    "print(\"difference in shapes\")\n",
    "print(a.shape)\n",
    "print(result.shape)\n",
    "print(\"-\" * 20)"
   ]
  }
 ],
 "metadata": {
  "kernelspec": {
   "display_name": "tf_env",
   "language": "python",
   "name": "python3"
  },
  "language_info": {
   "codemirror_mode": {
    "name": "ipython",
    "version": 3
   },
   "file_extension": ".py",
   "mimetype": "text/x-python",
   "name": "python",
   "nbconvert_exporter": "python",
   "pygments_lexer": "ipython3",
   "version": "3.10.13"
  }
 },
 "nbformat": 4,
 "nbformat_minor": 2
}

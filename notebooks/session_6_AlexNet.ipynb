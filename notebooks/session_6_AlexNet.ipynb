{
 "cells": [
  {
   "cell_type": "markdown",
   "metadata": {},
   "source": [
    "# Session 6: Convolutional layer"
   ]
  },
  {
   "cell_type": "code",
   "execution_count": 2,
   "metadata": {},
   "outputs": [],
   "source": [
    "import keras\n",
    "import numpy as np"
   ]
  },
  {
   "cell_type": "markdown",
   "metadata": {},
   "source": [
    "## AlexNet"
   ]
  },
  {
   "cell_type": "markdown",
   "metadata": {},
   "source": [
    "## Part 1"
   ]
  },
  {
   "cell_type": "code",
   "execution_count": 14,
   "metadata": {},
   "outputs": [
    {
     "data": {
      "text/plain": [
       "TensorShape([1, 54, 54, 96])"
      ]
     },
     "execution_count": 14,
     "metadata": {},
     "output_type": "execute_result"
    }
   ],
   "source": [
    "model = keras.Sequential(\n",
    "    [\n",
    "        keras.layers.Input((224, 224, 3)),\n",
    "        keras.layers.Conv2D(\n",
    "            96, (11, 11), strides=4, padding=\"valid\", activation=\"relu\"\n",
    "        ),\n",
    "    ]\n",
    ")\n",
    "\n",
    "image = np.random.random((1, 224, 224, 3))\n",
    "\n",
    "model(image).shape"
   ]
  },
  {
   "cell_type": "markdown",
   "metadata": {},
   "source": [
    "## part 2"
   ]
  },
  {
   "cell_type": "code",
   "execution_count": 15,
   "metadata": {},
   "outputs": [
    {
     "data": {
      "text/plain": [
       "TensorShape([1, 26, 26, 96])"
      ]
     },
     "execution_count": 15,
     "metadata": {},
     "output_type": "execute_result"
    }
   ],
   "source": [
    "model = keras.Sequential(\n",
    "    [\n",
    "        keras.layers.Input((224, 224, 3)),\n",
    "        keras.layers.Conv2D(\n",
    "            96, (11, 11), strides=4, padding=\"valid\", activation=\"relu\"\n",
    "        ),\n",
    "        keras.layers.MaxPool2D((3, 3), strides=2),\n",
    "    ]\n",
    ")\n",
    "\n",
    "image = np.random.random((1, 224, 224, 3))\n",
    "\n",
    "model(image).shape"
   ]
  },
  {
   "cell_type": "markdown",
   "metadata": {},
   "source": [
    "## part 3"
   ]
  },
  {
   "cell_type": "code",
   "execution_count": 17,
   "metadata": {},
   "outputs": [
    {
     "data": {
      "text/plain": [
       "TensorShape([1, 26, 26, 256])"
      ]
     },
     "execution_count": 17,
     "metadata": {},
     "output_type": "execute_result"
    }
   ],
   "source": [
    "model = keras.Sequential(\n",
    "    [\n",
    "        keras.layers.Input((224, 224, 3)),\n",
    "        keras.layers.Conv2D(\n",
    "            96, (11, 11), strides=4, padding=\"valid\", activation=\"relu\"\n",
    "        ),\n",
    "        keras.layers.MaxPool2D((3, 3), strides=2),\n",
    "        keras.layers.Conv2D(256, (5, 5), padding=\"same\", activation=\"relu\"),\n",
    "    ]\n",
    ")\n",
    "\n",
    "image = np.random.random((1, 224, 224, 3))\n",
    "\n",
    "model(image).shape"
   ]
  },
  {
   "cell_type": "markdown",
   "metadata": {},
   "source": [
    "## part 4"
   ]
  },
  {
   "cell_type": "code",
   "execution_count": null,
   "metadata": {},
   "outputs": [
    {
     "data": {
      "text/plain": [
       "TensorShape([1, 12, 12, 256])"
      ]
     },
     "execution_count": 18,
     "metadata": {},
     "output_type": "execute_result"
    }
   ],
   "source": [
    "model = keras.Sequential(\n",
    "    [\n",
    "        keras.layers.Input((224, 224, 3)),\n",
    "        keras.layers.Conv2D(\n",
    "            96, (11, 11), strides=4, padding=\"valid\", activation=\"relu\"\n",
    "        ),\n",
    "        keras.layers.MaxPool2D((3, 3), strides=2),\n",
    "        keras.layers.Conv2D(256, (5, 5), padding=\"same\", activation=\"relu\"),\n",
    "        keras.layers.MaxPool2D((3, 3), strides=2),\n",
    "    ]\n",
    ")\n",
    "\n",
    "image = np.random.random((1, 224, 224, 3))\n",
    "\n",
    "model(image).shape"
   ]
  },
  {
   "cell_type": "markdown",
   "metadata": {},
   "source": [
    "## part 5"
   ]
  },
  {
   "cell_type": "code",
   "execution_count": 20,
   "metadata": {},
   "outputs": [
    {
     "data": {
      "text/plain": [
       "TensorShape([1, 12, 12, 384])"
      ]
     },
     "execution_count": 20,
     "metadata": {},
     "output_type": "execute_result"
    }
   ],
   "source": [
    "model = keras.Sequential(\n",
    "    [\n",
    "        keras.layers.Input((224, 224, 3)),\n",
    "        keras.layers.Conv2D(\n",
    "            96, (11, 11), strides=4, padding=\"valid\", activation=\"relu\"\n",
    "        ),\n",
    "        keras.layers.MaxPool2D((3, 3), strides=2),\n",
    "        keras.layers.Conv2D(256, (5, 5), padding=\"same\", activation=\"relu\"),\n",
    "        keras.layers.MaxPool2D((3, 3), strides=2),\n",
    "        keras.layers.Conv2D(384, (3, 3), padding=\"same\", activation=\"relu\"),\n",
    "    ]\n",
    ")\n",
    "\n",
    "image = np.random.random((1, 224, 224, 3))\n",
    "\n",
    "model(image).shape"
   ]
  },
  {
   "cell_type": "markdown",
   "metadata": {},
   "source": [
    "## part 6"
   ]
  },
  {
   "cell_type": "code",
   "execution_count": 21,
   "metadata": {},
   "outputs": [
    {
     "data": {
      "text/plain": [
       "TensorShape([1, 12, 12, 384])"
      ]
     },
     "execution_count": 21,
     "metadata": {},
     "output_type": "execute_result"
    }
   ],
   "source": [
    "model = keras.Sequential(\n",
    "    [\n",
    "        keras.layers.Input((224, 224, 3)),\n",
    "        keras.layers.Conv2D(\n",
    "            96, (11, 11), strides=4, padding=\"valid\", activation=\"relu\"\n",
    "        ),\n",
    "        keras.layers.MaxPool2D((3, 3), strides=2),\n",
    "        keras.layers.Conv2D(256, (5, 5), padding=\"same\", activation=\"relu\"),\n",
    "        keras.layers.MaxPool2D((3, 3), strides=2),\n",
    "        keras.layers.Conv2D(384, (3, 3), padding=\"same\", activation=\"relu\"),\n",
    "        keras.layers.Conv2D(384, (3, 3), padding=\"same\", activation=\"relu\"),\n",
    "    ]\n",
    ")\n",
    "\n",
    "image = np.random.random((1, 224, 224, 3))\n",
    "\n",
    "model(image).shape"
   ]
  },
  {
   "cell_type": "markdown",
   "metadata": {},
   "source": [
    "## part 7"
   ]
  },
  {
   "cell_type": "code",
   "execution_count": 22,
   "metadata": {},
   "outputs": [
    {
     "data": {
      "text/plain": [
       "TensorShape([1, 12, 12, 256])"
      ]
     },
     "execution_count": 22,
     "metadata": {},
     "output_type": "execute_result"
    }
   ],
   "source": [
    "model = keras.Sequential(\n",
    "    [\n",
    "        keras.layers.Input((224, 224, 3)),\n",
    "        keras.layers.Conv2D(\n",
    "            96, (11, 11), strides=4, padding=\"valid\", activation=\"relu\"\n",
    "        ),\n",
    "        keras.layers.MaxPool2D((3, 3), strides=2),\n",
    "        keras.layers.Conv2D(256, (5, 5), padding=\"same\", activation=\"relu\"),\n",
    "        keras.layers.MaxPool2D((3, 3), strides=2),\n",
    "        keras.layers.Conv2D(384, (3, 3), padding=\"same\", activation=\"relu\"),\n",
    "        keras.layers.Conv2D(384, (3, 3), padding=\"same\", activation=\"relu\"),\n",
    "        keras.layers.Conv2D(256, (3, 3), padding=\"same\", activation=\"relu\"),\n",
    "    ]\n",
    ")\n",
    "\n",
    "image = np.random.random((1, 224, 224, 3))\n",
    "\n",
    "model(image).shape"
   ]
  },
  {
   "cell_type": "markdown",
   "metadata": {},
   "source": [
    "## part 8"
   ]
  },
  {
   "cell_type": "code",
   "execution_count": 23,
   "metadata": {},
   "outputs": [
    {
     "data": {
      "text/plain": [
       "TensorShape([1, 5, 5, 256])"
      ]
     },
     "execution_count": 23,
     "metadata": {},
     "output_type": "execute_result"
    }
   ],
   "source": [
    "model = keras.Sequential(\n",
    "    [\n",
    "        keras.layers.Input((224, 224, 3)),\n",
    "        keras.layers.Conv2D(\n",
    "            96, (11, 11), strides=4, padding=\"valid\", activation=\"relu\"\n",
    "        ),\n",
    "        keras.layers.MaxPool2D((3, 3), strides=2),\n",
    "        keras.layers.Conv2D(256, (5, 5), padding=\"same\", activation=\"relu\"),\n",
    "        keras.layers.MaxPool2D((3, 3), strides=2),\n",
    "        keras.layers.Conv2D(384, (3, 3), padding=\"same\", activation=\"relu\"),\n",
    "        keras.layers.Conv2D(384, (3, 3), padding=\"same\", activation=\"relu\"),\n",
    "        keras.layers.Conv2D(256, (3, 3), padding=\"same\", activation=\"relu\"),\n",
    "        keras.layers.MaxPool2D((3, 3), strides=2),\n",
    "    ]\n",
    ")\n",
    "\n",
    "image = np.random.random((1, 224, 224, 3))\n",
    "\n",
    "model(image).shape"
   ]
  },
  {
   "cell_type": "markdown",
   "metadata": {},
   "source": [
    "## part 9"
   ]
  },
  {
   "cell_type": "code",
   "execution_count": 24,
   "metadata": {},
   "outputs": [
    {
     "data": {
      "text/plain": [
       "TensorShape([1, 1000])"
      ]
     },
     "execution_count": 24,
     "metadata": {},
     "output_type": "execute_result"
    }
   ],
   "source": [
    "model = keras.Sequential(\n",
    "    [\n",
    "        keras.layers.Input((224, 224, 3)),\n",
    "        keras.layers.Conv2D(\n",
    "            96, (11, 11), strides=4, padding=\"valid\", activation=\"relu\"\n",
    "        ),\n",
    "        keras.layers.MaxPool2D((3, 3), strides=2),\n",
    "        keras.layers.Conv2D(256, (5, 5), padding=\"same\", activation=\"relu\"),\n",
    "        keras.layers.MaxPool2D((3, 3), strides=2),\n",
    "        keras.layers.Conv2D(384, (3, 3), padding=\"same\", activation=\"relu\"),\n",
    "        keras.layers.Conv2D(384, (3, 3), padding=\"same\", activation=\"relu\"),\n",
    "        keras.layers.Conv2D(256, (3, 3), padding=\"same\", activation=\"relu\"),\n",
    "        keras.layers.MaxPool2D((3, 3), strides=2),\n",
    "        keras.layers.Flatten(),\n",
    "        keras.layers.Dense(4096, activation=\"relu\"),\n",
    "        keras.layers.Dropout(0.5),\n",
    "        keras.layers.Dense(4096, activation=\"relu\"),\n",
    "        keras.layers.Dropout(0.5),\n",
    "        keras.layers.Dense(1000),\n",
    "    ]\n",
    ")\n",
    "\n",
    "image = np.random.random((1, 224, 224, 3))\n",
    "\n",
    "model(image).shape"
   ]
  }
 ],
 "metadata": {
  "kernelspec": {
   "display_name": "tf_env",
   "language": "python",
   "name": "python3"
  },
  "language_info": {
   "codemirror_mode": {
    "name": "ipython",
    "version": 3
   },
   "file_extension": ".py",
   "mimetype": "text/x-python",
   "name": "python",
   "nbconvert_exporter": "python",
   "pygments_lexer": "ipython3",
   "version": "3.10.13"
  }
 },
 "nbformat": 4,
 "nbformat_minor": 2
}

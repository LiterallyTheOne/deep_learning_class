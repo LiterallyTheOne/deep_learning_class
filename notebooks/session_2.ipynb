{
 "cells": [
  {
   "cell_type": "markdown",
   "metadata": {},
   "source": [
    "# Tom and jerry, loading dataset"
   ]
  },
  {
   "cell_type": "markdown",
   "metadata": {},
   "source": [
    "## Imports"
   ]
  },
  {
   "cell_type": "code",
   "execution_count": 1,
   "metadata": {},
   "outputs": [
    {
     "name": "stderr",
     "output_type": "stream",
     "text": [
      "/Users/ramin/miniconda3/envs/tensorflow_312/lib/python3.12/site-packages/tqdm/auto.py:21: TqdmWarning: IProgress not found. Please update jupyter and ipywidgets. See https://ipywidgets.readthedocs.io/en/stable/user_install.html\n",
      "  from .autonotebook import tqdm as notebook_tqdm\n"
     ]
    }
   ],
   "source": [
    "import kagglehub\n",
    "\n",
    "from pathlib import Path\n",
    "\n",
    "import keras\n",
    "\n",
    "from matplotlib import pyplot as plt\n",
    "\n",
    "import numpy as np"
   ]
  },
  {
   "cell_type": "markdown",
   "metadata": {},
   "source": [
    "## Get the data"
   ]
  },
  {
   "cell_type": "code",
   "execution_count": 2,
   "metadata": {},
   "outputs": [],
   "source": [
    "path = Path(kagglehub.dataset_download(\"balabaskar/tom-and-jerry-image-classification\"))"
   ]
  },
  {
   "cell_type": "code",
   "execution_count": 3,
   "metadata": {},
   "outputs": [],
   "source": [
    "data_path = path / \"tom_and_jerry/tom_and_jerry\""
   ]
  },
  {
   "cell_type": "code",
   "execution_count": 4,
   "metadata": {},
   "outputs": [
    {
     "name": "stdout",
     "output_type": "stream",
     "text": [
      "/Users/ramin/.cache/kagglehub/datasets/balabaskar/tom-and-jerry-image-classification/versions/3/tom_and_jerry/tom_and_jerry\n"
     ]
    }
   ],
   "source": [
    "print(data_path)"
   ]
  },
  {
   "cell_type": "markdown",
   "metadata": {},
   "source": [
    "## image_dataset_from_directory"
   ]
  },
  {
   "cell_type": "code",
   "execution_count": 5,
   "metadata": {},
   "outputs": [
    {
     "name": "stdout",
     "output_type": "stream",
     "text": [
      "Found 5478 files belonging to 4 classes.\n",
      "Using 4383 files for training.\n",
      "Using 1095 files for validation.\n"
     ]
    }
   ],
   "source": [
    "train_data, test_data = keras.utils.image_dataset_from_directory(\n",
    "    data_path,\n",
    "    seed=10,\n",
    "    validation_split=0.2,\n",
    "    subset=\"both\",\n",
    "    batch_size=12,\n",
    "    image_size=(720, 1280),\n",
    ")"
   ]
  },
  {
   "cell_type": "code",
   "execution_count": null,
   "metadata": {},
   "outputs": [],
   "source": [
    "one_batch = next(train_data.as_numpy_iterator())\n",
    "\n",
    "fig, axes = plt.subplots(3, 4)\n",
    "\n",
    "axes_ravel = axes.ravel()\n",
    "\n",
    "for i, (image, label) in enumerate(zip(one_batch[0], one_batch[1])):\n",
    "    axes_ravel[i].imshow(image.astype(\"uint8\"))\n",
    "    axes_ravel[i].set_axis_off()\n",
    "    axes_ravel[i].set_title(f\"{label}\")\n"
   ]
  }
 ],
 "metadata": {
  "kernelspec": {
   "display_name": "tensorflow_312",
   "language": "python",
   "name": "python3"
  },
  "language_info": {
   "codemirror_mode": {
    "name": "ipython",
    "version": 3
   },
   "file_extension": ".py",
   "mimetype": "text/x-python",
   "name": "python",
   "nbconvert_exporter": "python",
   "pygments_lexer": "ipython3",
   "version": "3.12.5"
  }
 },
 "nbformat": 4,
 "nbformat_minor": 2
}

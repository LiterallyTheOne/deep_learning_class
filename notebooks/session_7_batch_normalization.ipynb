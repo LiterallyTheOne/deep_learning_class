{
 "cells": [
  {
   "cell_type": "markdown",
   "metadata": {},
   "source": [
    "# ResNet"
   ]
  },
  {
   "cell_type": "code",
   "execution_count": 1,
   "metadata": {},
   "outputs": [],
   "source": [
    "import keras\n",
    "import numpy as np"
   ]
  },
  {
   "cell_type": "markdown",
   "metadata": {},
   "source": [
    "\n",
    "$y = \\gamma \\cdot \\hat{x} + \\beta$\n"
   ]
  },
  {
   "cell_type": "code",
   "execution_count": 15,
   "metadata": {},
   "outputs": [
    {
     "name": "stdout",
     "output_type": "stream",
     "text": [
      "[[[[ 0.  1.  2.]\n",
      "   [ 3.  4.  5.]]\n",
      "\n",
      "  [[ 6.  7.  8.]\n",
      "   [ 9. 10. 11.]]\n",
      "\n",
      "  [[12. 13. 14.]\n",
      "   [15. 16. 17.]]]]\n",
      "--------------------\n",
      "[[[[ 0.          0.99950033  1.9990007 ]\n",
      "   [ 2.998501    3.9980013   4.997502  ]]\n",
      "\n",
      "  [[ 5.997002    6.9965024   7.9960027 ]\n",
      "   [ 8.995503    9.995004   10.994504  ]]\n",
      "\n",
      "  [[11.994004   12.993505   13.993005  ]\n",
      "   [14.992505   15.992005   16.991507  ]]]]\n"
     ]
    }
   ],
   "source": [
    "a = np.arange(18, dtype=float).reshape(1, 3, 2, 3)\n",
    "\n",
    "bn = keras.layers.BatchNormalization(beta_initializer=\"zeros\", gamma_initializer=\"ones\")\n",
    "\n",
    "result = bn(a)\n",
    "\n",
    "print(a)\n",
    "print(\"-\" * 20)\n",
    "print(result.numpy())\n"
   ]
  },
  {
   "cell_type": "code",
   "execution_count": null,
   "metadata": {},
   "outputs": [],
   "source": []
  }
 ],
 "metadata": {
  "kernelspec": {
   "display_name": "tf_env",
   "language": "python",
   "name": "python3"
  },
  "language_info": {
   "codemirror_mode": {
    "name": "ipython",
    "version": 3
   },
   "file_extension": ".py",
   "mimetype": "text/x-python",
   "name": "python",
   "nbconvert_exporter": "python",
   "pygments_lexer": "ipython3",
   "version": "3.10.13"
  }
 },
 "nbformat": 4,
 "nbformat_minor": 2
}
